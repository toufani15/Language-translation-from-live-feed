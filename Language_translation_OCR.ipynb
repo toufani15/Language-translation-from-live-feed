{
 "cells": [
  {
   "cell_type": "markdown",
   "metadata": {},
   "source": [
    "- You'll need Chrome driver for this. Install it in the working directory or any directory and pass the directory  like this  webdriver.Chrome('chromedriver.exe') as I did in the get_the_translation function\n",
    "- Pip install pytesseract, pip install tesseract\n",
    "- Install tesseract OCR for your OS and add its path to the environment variable."
   ]
  },
  {
   "cell_type": "code",
   "execution_count": null,
   "metadata": {},
   "outputs": [],
   "source": [
    "import cv2\n",
    "import pytesseract\n",
    "from selenium import webdriver"
   ]
  },
  {
   "cell_type": "code",
   "execution_count": null,
   "metadata": {},
   "outputs": [],
   "source": [
    "dict_={'tamil':'ta','english':'en','spanish':'es','hindi':'hi','french':'fr'}"
   ]
  },
  {
   "cell_type": "markdown",
   "metadata": {},
   "source": [
    "#### Getting the translation for the input from google translation using selenium"
   ]
  },
  {
   "cell_type": "code",
   "execution_count": null,
   "metadata": {},
   "outputs": [],
   "source": [
    "def get_the_translation(from_,to_,Text):\n",
    "    global driver\n",
    "    driver=webdriver.Chrome('chromedriver.exe')\n",
    "    driver.get('https://translate.google.com/#view=home&op=translate&sl={}&tl={}&text={}'.format(dict_[from_],dict_[to_],Text))\n",
    "    first=driver.find_elements_by_xpath(\"\"\"//html/body/div[2]/div[1]/div[2]/div[1]/div[1]/div[2]/div[2]/div[1]/div[2]\"\"\")\n",
    "    return first[0].text"
   ]
  },
  {
   "cell_type": "code",
   "execution_count": null,
   "metadata": {},
   "outputs": [],
   "source": [
    "\n",
    "def main(frm,to):\n",
    "    cap=cv2.VideoCapture(0)\n",
    "    meaning=\"\"\n",
    "\n",
    "    if cap.isOpened():\n",
    "        ret,frame=cap.read()\n",
    "    else:\n",
    "        ret=False\n",
    "    while ret:\n",
    "        ret,frame=cap.read()\n",
    "        orig=frame.copy()\n",
    "         # Select ROI\n",
    "        cv2.putText(frame,\"{}-->{}\".format(frm,to),(10,30),cv2.FONT_HERSHEY_SIMPLEX,1,(0,0,255),2)\n",
    "\n",
    "        fromCenter = False\n",
    "        if cv2.waitKey(1) & 0xFF == ord(\"s\"):\n",
    "            #Selecting the word you want to translate from the screen\n",
    "            r = cv2.selectROI(\"Selection_frame\",frame, fromCenter)\n",
    "\n",
    "            # Crop image\n",
    "            imCrop = frame[int(r[1]):int(r[1]+r[3]), int(r[0]):int(r[0]+r[2])]\n",
    "            gray = cv2.cvtColor(imCrop, cv2.COLOR_BGR2GRAY)\n",
    "            gray = cv2.threshold(gray, 0, 255,cv2.THRESH_BINARY | cv2.THRESH_OTSU)[1]\n",
    "            Text = pytesseract.image_to_string(gray)\n",
    "            meaning=get_the_translation(frm,to,Text)\n",
    "\n",
    "            driver.close()\n",
    "        if meaning is not None:\n",
    "                cv2.putText(frame,\"translation: {}\".format(meaning),(20,450),cv2.FONT_HERSHEY_SIMPLEX,1,(0,0,255),2)\n",
    "\n",
    "        cv2.imshow('f',frame)\n",
    "        if cv2.waitKey(1)==27:\n",
    "            break\n",
    "    cv2.destroyAllWindows()\n",
    "    cap.release()\n"
   ]
  }
 ],
 "metadata": {
  "kernelspec": {
   "display_name": "Python 3",
   "language": "python",
   "name": "python3"
  },
  "language_info": {
   "codemirror_mode": {
    "name": "ipython",
    "version": 3
   },
   "file_extension": ".py",
   "mimetype": "text/x-python",
   "name": "python",
   "nbconvert_exporter": "python",
   "pygments_lexer": "ipython3",
   "version": "3.6.5"
  }
 },
 "nbformat": 4,
 "nbformat_minor": 2
}
